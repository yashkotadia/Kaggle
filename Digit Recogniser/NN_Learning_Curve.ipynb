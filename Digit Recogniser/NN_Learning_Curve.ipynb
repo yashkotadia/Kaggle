{
 "cells": [
  {
   "cell_type": "code",
   "execution_count": 9,
   "metadata": {
    "collapsed": true
   },
   "outputs": [],
   "source": [
    "import pandas as pd \n",
    "from sklearn.neural_network import MLPClassifier\n",
    "import matplotlib.pyplot as plt"
   ]
  },
  {
   "cell_type": "code",
   "execution_count": 10,
   "metadata": {
    "collapsed": true
   },
   "outputs": [],
   "source": [
    "# 0.66 * 42000\n",
    "split = 27720"
   ]
  },
  {
   "cell_type": "code",
   "execution_count": 11,
   "metadata": {
    "collapsed": true
   },
   "outputs": [],
   "source": [
    "# file is a pd.dataframe variable which contains the dataframe of train csv file\n",
    "file = pd.read_csv( 'C:/Users/pc/Downloads/train.csv' , delimiter=',' , header=0)"
   ]
  },
  {
   "cell_type": "code",
   "execution_count": 12,
   "metadata": {
    "collapsed": true
   },
   "outputs": [],
   "source": [
    "# storing the file as an array\n",
    "f = file.as_matrix()"
   ]
  },
  {
   "cell_type": "code",
   "execution_count": 13,
   "metadata": {
    "collapsed": false
   },
   "outputs": [],
   "source": [
    "# The training dataset in array form\n",
    "X_train = f[:split, 1:]\n",
    "y_train = f[:split, 0]\n",
    "\n",
    "# The Cross validation set\n",
    "X_cv = f[split: , 1:]\n",
    "y_cv = f[split: , 0]"
   ]
  },
  {
   "cell_type": "code",
   "execution_count": 14,
   "metadata": {
    "collapsed": false
   },
   "outputs": [],
   "source": [
    "# Declaring error arrays\n",
    "error_cv = []\n",
    "error_train = []\n",
    "\n",
    "# The values of m along the iteration\n",
    "m_values = list(range(500,split,500))"
   ]
  },
  {
   "cell_type": "code",
   "execution_count": 23,
   "metadata": {
    "collapsed": false
   },
   "outputs": [],
   "source": [
    "import numpy as np\n",
    "for m in m_values:\n",
    "\n",
    "    nn = MLPClassifier(solver='lbfgs' , alpha = 1 , activation='logistic' , hidden_layer_sizes=(100,))\n",
    "    nn.fit( X_train[ :m , ] , y_train[ :m , ] )\n",
    "\n",
    "    y_pred  = nn.predict(X_cv)\n",
    "    error_cv.append( sum( np.equal(y_pred ,y_cv ) )/len(y_pred) )\n",
    "\n",
    "    y_pred = nn.predict(X_train[ :m , : ])\n",
    "    error_train.append( sum( np.equal(y_pred,y_train[ :m , ]) ) /len(y_pred) )"
   ]
  },
  {
   "cell_type": "code",
   "execution_count": 24,
   "metadata": {
    "collapsed": false
   },
   "outputs": [
    {
     "name": "stdout",
     "output_type": "stream",
     "text": [
      "[0.1612044817927171, 0.16365546218487395, 0.83781512605042019, 0.87247899159663866, 0.89110644257703087, 0.89838935574229695, 0.89866946778711487, 0.90833333333333333, 0.90644257703081232, 0.91029411764705881, 0.91211484593837533, 0.91841736694677867, 0.91463585434173666, 0.91211484593837533, 0.91708683473389352, 0.92528011204481797, 0.92836134453781516, 0.92570028011204486, 0.92429971988795523, 0.93039215686274512, 0.92492997198879556, 0.9247899159663866, 0.9247899159663866, 0.92829131652661068, 0.93186274509803924, 0.93333333333333335, 0.93109243697478994, 0.93382352941176472, 0.92808123249299723, 0.93816526610644257, 0.93186274509803924, 0.9304621848739496, 0.93529411764705883, 0.93935574229691876, 0.93690476190476191, 0.93662464985994398, 0.93648459383753502, 0.93284313725490198, 0.93347338935574231, 0.93676470588235294, 0.93536414565826331, 0.93585434173669468, 0.93690476190476191, 0.93977591036414565, 0.9384453781512605, 0.93781512605042017, 0.93879551820728291, 0.93879551820728291, 0.94418767507002799, 0.94250700280112043, 0.9411064425770308, 0.93949579831932772, 0.94229691876750699, 0.93991596638655461, 0.9411064425770308, 0.94250700280112043, 0.94439775910364143]\n",
      "[0.98799999999999999, 0.97299999999999998, 0.97999999999999998, 0.97950000000000004, 0.9768, 0.97966666666666669, 0.97714285714285709, 0.97475000000000001, 0.97288888888888891, 0.98160000000000003, 0.97127272727272729, 0.96799999999999997, 0.97307692307692306, 0.98028571428571432, 0.9781333333333333, 0.97750000000000004, 0.9747058823529412, 0.98033333333333328, 0.97505263157894739, 0.97409999999999997, 0.97276190476190472, 0.97227272727272729, 0.9746086956521739, 0.97341666666666671, 0.97496000000000005, 0.97669230769230764, 0.9695555555555555, 0.97878571428571426, 0.97289655172413791, 0.97426666666666661, 0.97735483870967743, 0.97724999999999995, 0.97581818181818181, 0.97547058823529409, 0.97582857142857138, 0.97027777777777779, 0.97308108108108105, 0.97184210526315784, 0.96989743589743593, 0.97160000000000002, 0.97346341463414632, 0.97352380952380957, 0.97209302325581393, 0.9705454545454546, 0.97582222222222226, 0.97413043478260875, 0.97714893617021281, 0.97391666666666665, 0.97146938775510205, 0.97160000000000002, 0.9727058823529412, 0.97076923076923072, 0.97498113207547166, 0.97159259259259256, 0.97803636363636359]\n"
     ]
    }
   ],
   "source": [
    "print(error_cv)\n",
    "print(error_train)"
   ]
  },
  {
   "cell_type": "code",
   "execution_count": 31,
   "metadata": {
    "collapsed": false
   },
   "outputs": [],
   "source": []
  },
  {
   "cell_type": "code",
   "execution_count": 35,
   "metadata": {
    "collapsed": false
   },
   "outputs": [
    {
     "data": {
      "image/png": "[encoded data removed]",
      "text/plain": [
       "<matplotlib.figure.Figure at 0xba870fb128>"
      ]
     },
     "metadata": {},
     "output_type": "display_data"
    }
   ],
   "source": [
    "plt.plot(m_values, np.multiply(1000,error_cv[2:]), 'ro' , m_values , np.multiply(1000,error_train) , 'bs')\n",
    "plt.axis([0, split, 800, 1000])\n",
    "plt.show()"
   ]
  },
  {
   "cell_type": "code",
   "execution_count": null,
   "metadata": {
    "collapsed": true
   },
   "outputs": [],
   "source": []
  }
 ],
 "metadata": {
  "kernelspec": {
   "display_name": "Python 3",
   "language": "python",
   "name": "python3"
  },
  "language_info": {
   "codemirror_mode": {
    "name": "ipython",
    "version": 3
   },
   "file_extension": ".py",
   "mimetype": "text/x-python",
   "name": "python",
   "nbconvert_exporter": "python",
   "pygments_lexer": "ipython3",
   "version": "3.6.0"
  }
 },
 "nbformat": 4,
 "nbformat_minor": 2
}
