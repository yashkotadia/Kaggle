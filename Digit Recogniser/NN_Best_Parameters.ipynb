{
 "cells": [
  {
   "cell_type": "code",
   "execution_count": 15,
   "metadata": {
    "collapsed": true
   },
   "outputs": [],
   "source": [
    "\n",
    "import pandas as pd \n",
    "from sklearn.neural_network import MLPClassifier\n",
    "import matplotlib.pyplot as plt\n",
    "\n",
    "split = 27720\n",
    "\n",
    "\n",
    "# file is a pd.dataframe variable which contains the dataframe of train csv file\n",
    "file = pd.read_csv( 'C:/Users/pc/Downloads/train.csv' , delimiter=',' , header=0)\n",
    "\n",
    "\n",
    "# storing the file as an array\n",
    "f = file.as_matrix()\n",
    "\n",
    "\n",
    "# The training dataset in array form\n",
    "X_train = f[:split, 1:]\n",
    "y_train = f[:split, 0]\n",
    "\n",
    "# The Cross validation set\n",
    "X_cv = f[split: , 1:]\n",
    "y_cv = f[split: , 0]\n",
    "\n",
    "# Declaring error arrays\n",
    "error_cv = []"
   ]
  },
  {
   "cell_type": "code",
   "execution_count": 16,
   "metadata": {
    "collapsed": false
   },
   "outputs": [],
   "source": [
    "import numpy as np\n",
    "for layer_size in [300, 325, 350, 375]:\n",
    "        for reg in [10, 25, 50 , 75 , 100]:\n",
    "\n",
    "            nn = MLPClassifier(solver='lbfgs' , alpha = reg , activation='logistic' , hidden_layer_sizes=(layer_size,))\n",
    "            nn.fit( X_train , y_train )\n",
    "\n",
    "            y_pred  = nn.predict(X_cv)\n",
    "            error_cv.append( sum( np.not_equal(y_pred ,y_cv ) )/len(y_pred) )"
   ]
  },
  {
   "cell_type": "code",
   "execution_count": 17,
   "metadata": {
    "collapsed": false
   },
   "outputs": [
    {
     "name": "stdout",
     "output_type": "stream",
     "text": [
      "0\n"
     ]
    }
   ],
   "source": [
    "min_index = error_cv.index(np.amin(error_cv))\n",
    "print(min_index)"
   ]
  },
  {
   "cell_type": "code",
   "execution_count": 18,
   "metadata": {
    "collapsed": false
   },
   "outputs": [
    {
     "name": "stdout",
     "output_type": "stream",
     "text": [
      "[0.033963585434173667, 0.034313725490196081, 0.03620448179271709, 0.035924369747899157, 0.038095238095238099, 0.035084033613445378, 0.036274509803921572, 0.034453781512605045, 0.036624649859943979, 0.035084033613445378, 0.034803921568627452, 0.035014005602240897, 0.035224089635854341, 0.034943977591036415, 0.036134453781512609, 0.03410364145658263, 0.0342436974789916, 0.0342436974789916, 0.034803921568627452, 0.034383753501400563]\n"
     ]
    }
   ],
   "source": [
    "print(error_cv)"
   ]
  },
  {
   "cell_type": "code",
   "execution_count": null,
   "metadata": {
    "collapsed": true
   },
   "outputs": [],
   "source": []
  }
 ],
 "metadata": {
  "kernelspec": {
   "display_name": "Python 3",
   "language": "python",
   "name": "python3"
  },
  "language_info": {
   "codemirror_mode": {
    "name": "ipython",
    "version": 3
   },
   "file_extension": ".py",
   "mimetype": "text/x-python",
   "name": "python",
   "nbconvert_exporter": "python",
   "pygments_lexer": "ipython3",
   "version": "3.6.0"
  }
 },
 "nbformat": 4,
 "nbformat_minor": 2
}
